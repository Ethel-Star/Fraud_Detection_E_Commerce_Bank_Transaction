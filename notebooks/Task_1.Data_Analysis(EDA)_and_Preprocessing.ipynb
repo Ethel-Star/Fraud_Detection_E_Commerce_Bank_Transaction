{
 "cells": [
  {
   "cell_type": "code",
   "execution_count": 1,
   "metadata": {},
   "outputs": [],
   "source": [
    "import sys\n",
    "scripts_dir = r'E:\\DS+ML\\AIM3\\Week-8-9\\DataFraud_Detection_E_Commerce_Bank_Transaction\\scripts'\n",
    "src_dir = r'E:\\DS+ML\\AIM3\\Week-8-9\\Fraud_Detection_E_Commerce_Bank_Transaction\\src'\n",
    "\n",
    "# Update the file paths for the datasets\n",
    "creditcard_file = r\"E:\\DS+ML\\AIM3\\Week-8-9\\Data\\creditcard.csv\"\n",
    "fraud_data_file = r\"E:\\DS+ML\\AIM3\\Week-8-9\\Data\\Fraud_Data.csv\"\n",
    "ip_to_country_file = r\"E:\\DS+ML\\AIM3\\Week-8-9\\Data\\IpAddress_to_Country.csv\"\n",
    "\n",
    "# Add directories to the Python path if they are not already included\n",
    "if scripts_dir not in sys.path:\n",
    "    sys.path.append(scripts_dir)\n",
    "if src_dir not in sys.path:\n",
    "    sys.path.append(src_dir)"
   ]
  }
 ],
 "metadata": {
  "kernelspec": {
   "display_name": "Python (env)",
   "language": "python",
   "name": "env"
  },
  "language_info": {
   "codemirror_mode": {
    "name": "ipython",
    "version": 3
   },
   "file_extension": ".py",
   "mimetype": "text/x-python",
   "name": "python",
   "nbconvert_exporter": "python",
   "pygments_lexer": "ipython3",
   "version": "3.12.8"
  }
 },
 "nbformat": 4,
 "nbformat_minor": 2
}
